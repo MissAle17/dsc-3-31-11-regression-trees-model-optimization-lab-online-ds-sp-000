{
 "cells": [
  {
   "cell_type": "markdown",
   "metadata": {},
   "source": [
    "# Regression Trees and Model Optimization - Lab\n",
    "\n",
    "## Introduction\n",
    "\n",
    "In this final lab, we'll see how to apply regression analysis using CART trees for regression while making use of some hyperparameter tuning to improve our model. For a comparison of predictive capabilities and computational cost, we'll work the \"Boston Housing\" dataset. This will allow us to compare different regression approaches in terms of their accuracy and cost involved. \n",
    "\n",
    "## Objectives\n",
    "You will be able to:\n",
    "- Apply predictive regression analysis with CART trees\n",
    "- Get the data ready for modeling\n",
    "- Tune the key hyper parameters based a various models developed during training \n",
    "- Study the impact of tree pruning on the quality of predictions"
   ]
  },
  {
   "cell_type": "markdown",
   "metadata": {},
   "source": [
    "## Boston Housing Dataset - Again ! \n",
    "\n",
    "The dataset is available in the repo as `boston.csv`. \n",
    "\n",
    "- Load the Dataset and print its head and dimensions"
   ]
  },
  {
   "cell_type": "code",
   "execution_count": 1,
   "metadata": {},
   "outputs": [],
   "source": [
    "# Your code here \n",
    "# Import libraries \n",
    "import pandas as pd  \n",
    "import numpy as np  \n",
    "import matplotlib.pyplot as plt  \n",
    "%matplotlib inline\n",
    "\n",
    "from sklearn.model_selection import train_test_split"
   ]
  },
  {
   "cell_type": "code",
   "execution_count": 3,
   "metadata": {},
   "outputs": [
    {
     "name": "stdout",
     "output_type": "stream",
     "text": [
      "(506, 15)\n"
     ]
    },
    {
     "data": {
      "text/html": [
       "<div>\n",
       "<style scoped>\n",
       "    .dataframe tbody tr th:only-of-type {\n",
       "        vertical-align: middle;\n",
       "    }\n",
       "\n",
       "    .dataframe tbody tr th {\n",
       "        vertical-align: top;\n",
       "    }\n",
       "\n",
       "    .dataframe thead th {\n",
       "        text-align: right;\n",
       "    }\n",
       "</style>\n",
       "<table border=\"1\" class=\"dataframe\">\n",
       "  <thead>\n",
       "    <tr style=\"text-align: right;\">\n",
       "      <th></th>\n",
       "      <th>Unnamed: 0</th>\n",
       "      <th>crim</th>\n",
       "      <th>zn</th>\n",
       "      <th>indus</th>\n",
       "      <th>chas</th>\n",
       "      <th>nox</th>\n",
       "      <th>rm</th>\n",
       "      <th>age</th>\n",
       "      <th>dis</th>\n",
       "      <th>rad</th>\n",
       "      <th>tax</th>\n",
       "      <th>ptratio</th>\n",
       "      <th>black</th>\n",
       "      <th>lstat</th>\n",
       "      <th>medv</th>\n",
       "    </tr>\n",
       "  </thead>\n",
       "  <tbody>\n",
       "    <tr>\n",
       "      <th>0</th>\n",
       "      <td>1</td>\n",
       "      <td>0.00632</td>\n",
       "      <td>18.0</td>\n",
       "      <td>2.31</td>\n",
       "      <td>0</td>\n",
       "      <td>0.538</td>\n",
       "      <td>6.575</td>\n",
       "      <td>65.2</td>\n",
       "      <td>4.0900</td>\n",
       "      <td>1</td>\n",
       "      <td>296</td>\n",
       "      <td>15.3</td>\n",
       "      <td>396.90</td>\n",
       "      <td>4.98</td>\n",
       "      <td>24.0</td>\n",
       "    </tr>\n",
       "    <tr>\n",
       "      <th>1</th>\n",
       "      <td>2</td>\n",
       "      <td>0.02731</td>\n",
       "      <td>0.0</td>\n",
       "      <td>7.07</td>\n",
       "      <td>0</td>\n",
       "      <td>0.469</td>\n",
       "      <td>6.421</td>\n",
       "      <td>78.9</td>\n",
       "      <td>4.9671</td>\n",
       "      <td>2</td>\n",
       "      <td>242</td>\n",
       "      <td>17.8</td>\n",
       "      <td>396.90</td>\n",
       "      <td>9.14</td>\n",
       "      <td>21.6</td>\n",
       "    </tr>\n",
       "    <tr>\n",
       "      <th>2</th>\n",
       "      <td>3</td>\n",
       "      <td>0.02729</td>\n",
       "      <td>0.0</td>\n",
       "      <td>7.07</td>\n",
       "      <td>0</td>\n",
       "      <td>0.469</td>\n",
       "      <td>7.185</td>\n",
       "      <td>61.1</td>\n",
       "      <td>4.9671</td>\n",
       "      <td>2</td>\n",
       "      <td>242</td>\n",
       "      <td>17.8</td>\n",
       "      <td>392.83</td>\n",
       "      <td>4.03</td>\n",
       "      <td>34.7</td>\n",
       "    </tr>\n",
       "    <tr>\n",
       "      <th>3</th>\n",
       "      <td>4</td>\n",
       "      <td>0.03237</td>\n",
       "      <td>0.0</td>\n",
       "      <td>2.18</td>\n",
       "      <td>0</td>\n",
       "      <td>0.458</td>\n",
       "      <td>6.998</td>\n",
       "      <td>45.8</td>\n",
       "      <td>6.0622</td>\n",
       "      <td>3</td>\n",
       "      <td>222</td>\n",
       "      <td>18.7</td>\n",
       "      <td>394.63</td>\n",
       "      <td>2.94</td>\n",
       "      <td>33.4</td>\n",
       "    </tr>\n",
       "    <tr>\n",
       "      <th>4</th>\n",
       "      <td>5</td>\n",
       "      <td>0.06905</td>\n",
       "      <td>0.0</td>\n",
       "      <td>2.18</td>\n",
       "      <td>0</td>\n",
       "      <td>0.458</td>\n",
       "      <td>7.147</td>\n",
       "      <td>54.2</td>\n",
       "      <td>6.0622</td>\n",
       "      <td>3</td>\n",
       "      <td>222</td>\n",
       "      <td>18.7</td>\n",
       "      <td>396.90</td>\n",
       "      <td>5.33</td>\n",
       "      <td>36.2</td>\n",
       "    </tr>\n",
       "  </tbody>\n",
       "</table>\n",
       "</div>"
      ],
      "text/plain": [
       "   Unnamed: 0     crim    zn  indus  chas    nox     rm   age     dis  rad  \\\n",
       "0           1  0.00632  18.0   2.31     0  0.538  6.575  65.2  4.0900    1   \n",
       "1           2  0.02731   0.0   7.07     0  0.469  6.421  78.9  4.9671    2   \n",
       "2           3  0.02729   0.0   7.07     0  0.469  7.185  61.1  4.9671    2   \n",
       "3           4  0.03237   0.0   2.18     0  0.458  6.998  45.8  6.0622    3   \n",
       "4           5  0.06905   0.0   2.18     0  0.458  7.147  54.2  6.0622    3   \n",
       "\n",
       "   tax  ptratio   black  lstat  medv  \n",
       "0  296     15.3  396.90   4.98  24.0  \n",
       "1  242     17.8  396.90   9.14  21.6  \n",
       "2  242     17.8  392.83   4.03  34.7  \n",
       "3  222     18.7  394.63   2.94  33.4  \n",
       "4  222     18.7  396.90   5.33  36.2  "
      ]
     },
     "execution_count": 3,
     "metadata": {},
     "output_type": "execute_result"
    }
   ],
   "source": [
    "#load and view dataset\n",
    "\n",
    "df = pd.read_csv('boston.csv')\n",
    "print(df.shape)\n",
    "df.head()"
   ]
  },
  {
   "cell_type": "markdown",
   "metadata": {},
   "source": [
    "## Identify Features and Target Data\n",
    "In this lab, we'll use three features from the Boston housing dataset: `'RM'`, `'LSTAT'`, and `'PTRATIO'`. You'll find a brief description of each predictor below:\n",
    "\n",
    "#### Features\n",
    "- `'RM'` is the average number of rooms among homes in the neighborhood.\n",
    "- `'LSTAT'` is the percentage of homeowners in the neighborhood considered \"lower class\" (working poor).\n",
    "- `'PTRATIO'` is the ratio of students to teachers in primary and secondary schools in the neighborhood.\n",
    "\n",
    "#### Target\n",
    "- `MEDV`', the median value of the home. \n",
    "\n",
    "\n",
    "- Create dataframes for features and target as shown above. \n",
    "- Inspect the contents for validity "
   ]
  },
  {
   "cell_type": "code",
   "execution_count": 5,
   "metadata": {},
   "outputs": [],
   "source": [
    "# Your code here \n",
    "target = df['medv']\n",
    "feat = df[['rm', 'lstat','ptratio']]"
   ]
  },
  {
   "cell_type": "code",
   "execution_count": 6,
   "metadata": {},
   "outputs": [
    {
     "data": {
      "text/plain": [
       "0    24.0\n",
       "1    21.6\n",
       "2    34.7\n",
       "3    33.4\n",
       "4    36.2\n",
       "Name: medv, dtype: float64"
      ]
     },
     "execution_count": 6,
     "metadata": {},
     "output_type": "execute_result"
    }
   ],
   "source": [
    "target.head()"
   ]
  },
  {
   "cell_type": "code",
   "execution_count": 7,
   "metadata": {},
   "outputs": [
    {
     "data": {
      "text/html": [
       "<div>\n",
       "<style scoped>\n",
       "    .dataframe tbody tr th:only-of-type {\n",
       "        vertical-align: middle;\n",
       "    }\n",
       "\n",
       "    .dataframe tbody tr th {\n",
       "        vertical-align: top;\n",
       "    }\n",
       "\n",
       "    .dataframe thead th {\n",
       "        text-align: right;\n",
       "    }\n",
       "</style>\n",
       "<table border=\"1\" class=\"dataframe\">\n",
       "  <thead>\n",
       "    <tr style=\"text-align: right;\">\n",
       "      <th></th>\n",
       "      <th>rm</th>\n",
       "      <th>lstat</th>\n",
       "      <th>ptratio</th>\n",
       "    </tr>\n",
       "  </thead>\n",
       "  <tbody>\n",
       "    <tr>\n",
       "      <th>0</th>\n",
       "      <td>6.575</td>\n",
       "      <td>4.98</td>\n",
       "      <td>15.3</td>\n",
       "    </tr>\n",
       "    <tr>\n",
       "      <th>1</th>\n",
       "      <td>6.421</td>\n",
       "      <td>9.14</td>\n",
       "      <td>17.8</td>\n",
       "    </tr>\n",
       "    <tr>\n",
       "      <th>2</th>\n",
       "      <td>7.185</td>\n",
       "      <td>4.03</td>\n",
       "      <td>17.8</td>\n",
       "    </tr>\n",
       "    <tr>\n",
       "      <th>3</th>\n",
       "      <td>6.998</td>\n",
       "      <td>2.94</td>\n",
       "      <td>18.7</td>\n",
       "    </tr>\n",
       "    <tr>\n",
       "      <th>4</th>\n",
       "      <td>7.147</td>\n",
       "      <td>5.33</td>\n",
       "      <td>18.7</td>\n",
       "    </tr>\n",
       "  </tbody>\n",
       "</table>\n",
       "</div>"
      ],
      "text/plain": [
       "      rm  lstat  ptratio\n",
       "0  6.575   4.98     15.3\n",
       "1  6.421   9.14     17.8\n",
       "2  7.185   4.03     17.8\n",
       "3  6.998   2.94     18.7\n",
       "4  7.147   5.33     18.7"
      ]
     },
     "execution_count": 7,
     "metadata": {},
     "output_type": "execute_result"
    }
   ],
   "source": [
    "feat.head()"
   ]
  },
  {
   "cell_type": "markdown",
   "metadata": {},
   "source": [
    "## Inspect Correlations \n",
    "\n",
    "- Use scatter plots to show the correlation between chosen features and target variable\n",
    "- Comment on each scatter plot "
   ]
  },
  {
   "cell_type": "code",
   "execution_count": 19,
   "metadata": {},
   "outputs": [
    {
     "data": {
      "image/png": "[encoded data removed]",
      "text/plain": [
       "<Figure size 432x288 with 1 Axes>"
      ]
     },
     "metadata": {
      "needs_background": "light"
     },
     "output_type": "display_data"
    },
    {
     "data": {
      "image/png": "[encoded data removed]",
      "text/plain": [
       "<Figure size 432x288 with 1 Axes>"
      ]
     },
     "metadata": {
      "needs_background": "light"
     },
     "output_type": "display_data"
    },
    {
     "data": {
      "image/png": "[encoded data removed]",
      "text/plain": [
       "<Figure size 432x288 with 1 Axes>"
      ]
     },
     "metadata": {
      "needs_background": "light"
     },
     "output_type": "display_data"
    }
   ],
   "source": [
    "# Your code here \n",
    "\n",
    "for col in feat:\n",
    "    plt.scatter(feat[col],target, label = feat[col].name)\n",
    "    plt.title(\"Correlation\")\n",
    "    plt.legend()\n",
    "    plt.show()"
   ]
  },
  {
   "cell_type": "markdown",
   "metadata": {},
   "source": [
    "## Create Evaluation Metrics\n",
    "\n",
    "- Create a function `performance(true, predicted)` to calculate and return the r-sqaured score and MSE for two equal sized arrays showing true and predicted values\n",
    "- TEst the function with given data "
   ]
  },
  {
   "cell_type": "code",
   "execution_count": 27,
   "metadata": {},
   "outputs": [
    {
     "data": {
      "text/plain": [
       "[0.4719999999999998, 0.9228556485355649]"
      ]
     },
     "execution_count": 27,
     "metadata": {},
     "output_type": "execute_result"
    }
   ],
   "source": [
    "# Evaluation Metrics\n",
    "# Import metrics\n",
    "from sklearn import metrics\n",
    "\n",
    "def performance(y_true, y_predict):\n",
    "    \"\"\" Calculates and returns the performance score between \n",
    "        true and predicted values based on the metric chosen. \"\"\"\n",
    "    mets =[metrics.mean_squared_error(y_true, y_predict),metrics.r2_score(y_true, y_predict)]\n",
    "    return mets\n",
    "\n",
    "# Calculate the performance - TEST\n",
    "score = performance([3, -0.5, 2, 7, 4.2], [2.5, 0.0, 2.1, 7.8, 5.3])\n",
    "score\n",
    "\n",
    "# [0.9228556485355649, 0.4719999999999998]"
   ]
  },
  {
   "cell_type": "markdown",
   "metadata": {},
   "source": [
    "## Supervised Training \n",
    "- For supervised learning, split the `features` and `target` datasets into training/test data (80/20). \n",
    "- For reproducibility, use `random_state=42`"
   ]
  },
  {
   "cell_type": "code",
   "execution_count": 23,
   "metadata": {},
   "outputs": [],
   "source": [
    "# Your code here \n",
    "X_train, X_test , y_train,y_test = train_test_split(feat, target, test_size = 0.2, random_state= 42)"
   ]
  },
  {
   "cell_type": "markdown",
   "metadata": {},
   "source": [
    "## Grow a Vanilla Regression Tree\n",
    "\n",
    "- Run a baseline model for later comparison using the datasets created above\n",
    "- Generate predictions for test dataset and calculate the performance measures using the function created above.\n",
    "- Use `random_state=45` for tree instance\n",
    "- Record your observations"
   ]
  },
  {
   "cell_type": "code",
   "execution_count": 24,
   "metadata": {},
   "outputs": [
    {
     "name": "stdout",
     "output_type": "stream",
     "text": [
      "MSE:  38.795686274509805\n",
      "R-squared:  0.47097115950374013\n"
     ]
    }
   ],
   "source": [
    "# Your code here \n",
    "from sklearn.tree import DecisionTreeRegressor\n",
    "\n",
    "dt_reg = DecisionTreeRegressor(random_state=45)\n",
    "dt_reg.fit(X_train,y_train)\n",
    "\n",
    "y_pred = dt_reg.predict(X_test)\n",
    "\n",
    "performance(y_test, y_pred)\n",
    "\n",
    "# (0.4712438851035674, 38.7756862745098)  - R2, MSE"
   ]
  },
  {
   "cell_type": "markdown",
   "metadata": {},
   "source": [
    "## Hyperparameter Tuning \n",
    "\n",
    "- Find the best tree depth for a depth range: 1-30\n",
    "- Run the regressor repeatedly in a for loop for each depth value. \n",
    "- Use `random_state=45` for reproducibility\n",
    "- Calculate MSE and r-squared for each run \n",
    "- Plot both performance measures, for all runs.\n",
    "- Comment on the output "
   ]
  },
  {
   "cell_type": "code",
   "execution_count": 45,
   "metadata": {},
   "outputs": [
    {
     "data": {
      "image/png": "[encoded data removed]",
      "text/plain": [
       "<Figure size 720x720 with 1 Axes>"
      ]
     },
     "metadata": {
      "needs_background": "light"
     },
     "output_type": "display_data"
    }
   ],
   "source": [
    "# Your code here \n",
    "max_depths = np.linspace(1, 30, 30, endpoint=True)\n",
    "D_tree = []\n",
    "Perf = []\n",
    "\n",
    "\n",
    "for depth in max_depths:\n",
    "    rgsr= DecisionTreeRegressor(max_depth = depth, random_state=45)\n",
    "    rgsr.fit(X_train,y_train) \n",
    "    \n",
    "    pred= rgsr.predict(X_test)\n",
    "    perf = performance(y_test,pred)\n",
    "    D_tree.append(depth)\n",
    "    Perf.append(perf)\n",
    "  \n",
    "mse = []\n",
    "r_sq = []\n",
    "for x in range(len(Perf)):\n",
    "    mse.append(Perf[x][0])\n",
    "    r_sq.append(Perf[x][1])\n",
    "    \n",
    "plt.figure(figsize=(10,10))\n",
    "plt.scatter(D_tree, mse, label ='MSE')\n",
    "plt.scatter(D_tree,r_sq, label ='R-Squared')\n",
    "plt.title('Depth Tuning Performace', fontsize=15)\n",
    "plt.legend()\n",
    "plt.show()\n",
    "# Your code here \n"
   ]
  },
  {
   "cell_type": "code",
   "execution_count": 56,
   "metadata": {},
   "outputs": [
    {
     "data": {
      "text/plain": [
       "[[46.91780325106487, 0.3602156982888397],\n",
       " [25.9931908959712, 0.645549571073612],\n",
       " [24.35254079481681, 0.6679219352208099],\n",
       " [20.338781153139767, 0.7226546855127474],\n",
       " [18.588071211613478, 0.746527856459061],\n",
       " [18.216888758430127, 0.7515894043185498],\n",
       " [27.401249398740603, 0.6263488910856303],\n",
       " [25.257301287114323, 0.6555843678227183],\n",
       " [27.56913231407174, 0.6240595926464088],\n",
       " [28.50464597035984, 0.6113026664935214],\n",
       " [28.347261380210004, 0.6134488068311303],\n",
       " [28.609553762098198, 0.6098721144721015],\n",
       " [37.307010490535475, 0.49127115931037457],\n",
       " [37.921697300062, 0.48288911786867383],\n",
       " [37.986231492597035, 0.4820091115502495],\n",
       " [27.164453124999998, 0.6295779113752684],\n",
       " [28.767637269907965, 0.607716443497591],\n",
       " [28.264112200435733, 0.6145826523275844],\n",
       " [36.963011982570805, 0.49596201928159167],\n",
       " [37.84296568627451, 0.48396272419845177],\n",
       " [38.795686274509805, 0.47097115950374013],\n",
       " [38.795686274509805, 0.47097115950374013],\n",
       " [38.795686274509805, 0.47097115950374013],\n",
       " [38.795686274509805, 0.47097115950374013],\n",
       " [38.795686274509805, 0.47097115950374013],\n",
       " [38.795686274509805, 0.47097115950374013],\n",
       " [38.795686274509805, 0.47097115950374013],\n",
       " [38.795686274509805, 0.47097115950374013],\n",
       " [38.795686274509805, 0.47097115950374013],\n",
       " [38.795686274509805, 0.47097115950374013]]"
      ]
     },
     "execution_count": 56,
     "metadata": {},
     "output_type": "execute_result"
    }
   ],
   "source": [
    "Perf"
   ]
  },
  {
   "cell_type": "markdown",
   "metadata": {},
   "source": [
    "## More Hyperparameter Tuning \n",
    "\n",
    "- Repeat the above process for `min_samples_split` parameter\n",
    "\n",
    "- Use a a range of values from 2-10 for this parameter \n",
    "- Use `random_state=45` for reproducibility\n",
    "- Visualize the output and comment on results as above"
   ]
  },
  {
   "cell_type": "code",
   "execution_count": 50,
   "metadata": {},
   "outputs": [
    {
     "data": {
      "image/png": "[encoded data removed]",
      "text/plain": [
       "<Figure size 720x720 with 1 Axes>"
      ]
     },
     "metadata": {
      "needs_background": "light"
     },
     "output_type": "display_data"
    }
   ],
   "source": [
    "# Your code here \n",
    "min_splits =np.linspace(2,10, 5, endpoint=True)\n",
    "\n",
    "D_tree2=[]\n",
    "Perf2 = []\n",
    "\n",
    "for splt in min_splits:\n",
    "    rgsr2 = DecisionTreeRegressor(min_samples_split = int(splt), random_state=45)\n",
    "    rgsr2.fit(X_train,y_train) \n",
    "    \n",
    "    pred2= rgsr2.predict(X_test)\n",
    "    perf2 = performance(y_test,pred2)\n",
    "    D_tree2.append(splt)\n",
    "    Perf2.append(perf2)\n",
    "    \n",
    "  \n",
    "mse2 = []\n",
    "r_sq2 = []\n",
    "for x in range(len(Perf2)):\n",
    "    mse2.append(Perf2[x][0])\n",
    "    r_sq2.append(Perf2[x][1])\n",
    "    \n",
    "plt.figure(figsize=(10,10))\n",
    "plt.scatter(D_tree2, mse2, label ='MSE')\n",
    "plt.scatter(D_tree2,r_sq2, label ='R-Squared')\n",
    "plt.title('Minimum Split Tuning Performace', fontsize=15)\n",
    "plt.legend()\n",
    "plt.show()\n"
   ]
  },
  {
   "cell_type": "markdown",
   "metadata": {},
   "source": [
    "# Run the \"Optimized\" Model \n",
    "\n",
    "- Use the best values for max_depth and min_samples_split found in previous runs and run an optimized model with these values. \n",
    "- Calculate the performance and comment on the output "
   ]
  },
  {
   "cell_type": "code",
   "execution_count": 59,
   "metadata": {},
   "outputs": [
    {
     "name": "stdout",
     "output_type": "stream",
     "text": [
      "The Optimal Model MSE is 35.26 and the R-Squared is 0.52\n"
     ]
    }
   ],
   "source": [
    "\n",
    "# Your code here \n",
    "rgsrF = DecisionTreeRegressor(min_samples_split = 6, max_depth=6, random_state=45)\n",
    "rgsrF.fit(X_train,y_train) \n",
    "  \n",
    "predF= rgsr2.predict(X_test)\n",
    "perfF = performance(y_test,predF) \n",
    "\n",
    "print(\"The Optimal Model MSE is {} and the R-Squared is {}\".format(round(perfF[0],2),round(perfF[1],2)))\n",
    "\n",
    "    \n"
   ]
  },
  {
   "cell_type": "markdown",
   "metadata": {},
   "source": [
    "## Level Up - Optional \n",
    "\n",
    "- How about bringing in some more features from the original dataset which may be good predictors?\n",
    "- Also , try tuning more hyperparameters like `max-features` to find the optimal version of the model. \n"
   ]
  },
  {
   "cell_type": "markdown",
   "metadata": {},
   "source": [
    "## Summary \n",
    "\n",
    "In this lab, we looked at applying a decision tree based regression analysis on the Boston Housing Dataset. We saw how to train various models to find the optimal values for pruning and limiting the growth of the trees. We also looked at how to extract some rules from visualizing trees , that might be used for decision making later. "
   ]
  }
 ],
 "metadata": {
  "kernelspec": {
   "display_name": "Python 3",
   "language": "python",
   "name": "python3"
  },
  "language_info": {
   "codemirror_mode": {
    "name": "ipython",
    "version": 3
   },
   "file_extension": ".py",
   "mimetype": "text/x-python",
   "name": "python",
   "nbconvert_exporter": "python",
   "pygments_lexer": "ipython3",
   "version": "3.6.8"
  }
 },
 "nbformat": 4,
 "nbformat_minor": 2
}
